{
 "cells": [
  {
   "cell_type": "markdown",
   "metadata": {},
   "source": [
    "## DATA CLEANING \n",
    "\n",
    "This notebook achieves the following goals:\n",
    "\n",
    "   1. Find Authors with Aliases in the Persons datatable \n",
    "   2. Create A look-up table to remove Aliases (by choosing only one name)\n",
    "   3. Clean all datatables to have no Aliases\n",
    "   4. Merge Book/Journal name with the Title field (books/journals correlated with topics)\n",
    "   5. Bring all tables into a cannonical form [KEY, AUTHOR, TITLE , YEAR]\n",
    "   6. Tokenize, and remove stopwords from Titles.\n",
    "   \n",
    "At the end of this process, we shall have a clean dataset which can be used for Topic extraction in the future."
   ]
  },
  {
   "cell_type": "code",
   "execution_count": 1,
   "metadata": {
    "collapsed": true
   },
   "outputs": [],
   "source": [
    "import pandas as pd"
   ]
  },
  {
   "cell_type": "markdown",
   "metadata": {},
   "source": [
    "### 1.1 Authors with Aliases"
   ]
  },
  {
   "cell_type": "code",
   "execution_count": 2,
   "metadata": {
    "collapsed": true
   },
   "outputs": [],
   "source": [
    "persons_df = pd.read_csv('dblp_persons.csv')"
   ]
  },
  {
   "cell_type": "code",
   "execution_count": 3,
   "metadata": {
    "collapsed": false
   },
   "outputs": [],
   "source": [
    "multiple = persons_df.Resource.value_counts()"
   ]
  },
  {
   "cell_type": "code",
   "execution_count": 4,
   "metadata": {
    "collapsed": false
   },
   "outputs": [],
   "source": [
    "multiple_names = persons_df[persons_df.Resource.isin(multiple[multiple >1].index)].set_index('Resource')"
   ]
  },
  {
   "cell_type": "code",
   "execution_count": 5,
   "metadata": {
    "collapsed": false,
    "scrolled": true
   },
   "outputs": [
    {
     "data": {
      "text/html": [
       "<div>\n",
       "<style>\n",
       "    .dataframe thead tr:only-child th {\n",
       "        text-align: right;\n",
       "    }\n",
       "\n",
       "    .dataframe thead th {\n",
       "        text-align: left;\n",
       "    }\n",
       "\n",
       "    .dataframe tbody tr th {\n",
       "        vertical-align: top;\n",
       "    }\n",
       "</style>\n",
       "<table border=\"1\" class=\"dataframe\">\n",
       "  <thead>\n",
       "    <tr style=\"text-align: right;\">\n",
       "      <th></th>\n",
       "      <th>Author</th>\n",
       "    </tr>\n",
       "    <tr>\n",
       "      <th>Resource</th>\n",
       "      <th></th>\n",
       "    </tr>\n",
       "  </thead>\n",
       "  <tbody>\n",
       "    <tr>\n",
       "      <th>homepages/96/520</th>\n",
       "      <td>Fu-Chiang Tsui</td>\n",
       "    </tr>\n",
       "    <tr>\n",
       "      <th>homepages/96/520</th>\n",
       "      <td>Fuchiang (Rich) Tsui</td>\n",
       "    </tr>\n",
       "    <tr>\n",
       "      <th>homepages/96/3827</th>\n",
       "      <td>Peter A. Henning</td>\n",
       "    </tr>\n",
       "    <tr>\n",
       "      <th>homepages/96/3827</th>\n",
       "      <td>Peter Henning</td>\n",
       "    </tr>\n",
       "    <tr>\n",
       "      <th>homepages/96/7099</th>\n",
       "      <td>Jos Kleinjans</td>\n",
       "    </tr>\n",
       "    <tr>\n",
       "      <th>homepages/96/7099</th>\n",
       "      <td>Jos C. S. Kleinjans</td>\n",
       "    </tr>\n",
       "  </tbody>\n",
       "</table>\n",
       "</div>"
      ],
      "text/plain": [
       "                                 Author\n",
       "Resource                               \n",
       "homepages/96/520         Fu-Chiang Tsui\n",
       "homepages/96/520   Fuchiang (Rich) Tsui\n",
       "homepages/96/3827      Peter A. Henning\n",
       "homepages/96/3827         Peter Henning\n",
       "homepages/96/7099         Jos Kleinjans\n",
       "homepages/96/7099   Jos C. S. Kleinjans"
      ]
     },
     "execution_count": 5,
     "metadata": {},
     "output_type": "execute_result"
    }
   ],
   "source": [
    "multiple = multiple_names.Author.values \n",
    "multiple_names.head(6)"
   ]
  },
  {
   "cell_type": "markdown",
   "metadata": {},
   "source": [
    "### 1.2   A look-up table for getting unique name per author"
   ]
  },
  {
   "cell_type": "code",
   "execution_count": 6,
   "metadata": {
    "collapsed": false
   },
   "outputs": [],
   "source": [
    "multiple_names['new_names'] = multiple_names.index.map(lambda x : multiple_names.loc[x].Author.values[0]).values"
   ]
  },
  {
   "cell_type": "code",
   "execution_count": 7,
   "metadata": {
    "collapsed": false
   },
   "outputs": [],
   "source": [
    "multiple_names.reset_index(inplace=True, drop=True)\n",
    "multiple_names.set_index('Author', inplace=True)"
   ]
  },
  {
   "cell_type": "code",
   "execution_count": 8,
   "metadata": {
    "collapsed": false
   },
   "outputs": [
    {
     "data": {
      "text/html": [
       "<div>\n",
       "<style>\n",
       "    .dataframe thead tr:only-child th {\n",
       "        text-align: right;\n",
       "    }\n",
       "\n",
       "    .dataframe thead th {\n",
       "        text-align: left;\n",
       "    }\n",
       "\n",
       "    .dataframe tbody tr th {\n",
       "        vertical-align: top;\n",
       "    }\n",
       "</style>\n",
       "<table border=\"1\" class=\"dataframe\">\n",
       "  <thead>\n",
       "    <tr style=\"text-align: right;\">\n",
       "      <th></th>\n",
       "      <th>new_names</th>\n",
       "    </tr>\n",
       "    <tr>\n",
       "      <th>Author</th>\n",
       "      <th></th>\n",
       "    </tr>\n",
       "  </thead>\n",
       "  <tbody>\n",
       "    <tr>\n",
       "      <th>Fu-Chiang Tsui</th>\n",
       "      <td>Fu-Chiang Tsui</td>\n",
       "    </tr>\n",
       "    <tr>\n",
       "      <th>Fuchiang (Rich) Tsui</th>\n",
       "      <td>Fu-Chiang Tsui</td>\n",
       "    </tr>\n",
       "    <tr>\n",
       "      <th>Peter A. Henning</th>\n",
       "      <td>Peter A. Henning</td>\n",
       "    </tr>\n",
       "    <tr>\n",
       "      <th>Peter Henning</th>\n",
       "      <td>Peter A. Henning</td>\n",
       "    </tr>\n",
       "    <tr>\n",
       "      <th>Jos Kleinjans</th>\n",
       "      <td>Jos Kleinjans</td>\n",
       "    </tr>\n",
       "    <tr>\n",
       "      <th>Jos C. S. Kleinjans</th>\n",
       "      <td>Jos Kleinjans</td>\n",
       "    </tr>\n",
       "  </tbody>\n",
       "</table>\n",
       "</div>"
      ],
      "text/plain": [
       "                             new_names\n",
       "Author                                \n",
       "Fu-Chiang Tsui          Fu-Chiang Tsui\n",
       "Fuchiang (Rich) Tsui    Fu-Chiang Tsui\n",
       "Peter A. Henning      Peter A. Henning\n",
       "Peter Henning         Peter A. Henning\n",
       "Jos Kleinjans            Jos Kleinjans\n",
       "Jos C. S. Kleinjans      Jos Kleinjans"
      ]
     },
     "execution_count": 8,
     "metadata": {},
     "output_type": "execute_result"
    }
   ],
   "source": [
    "multiple_names.head(6)"
   ]
  },
  {
   "cell_type": "code",
   "execution_count": 9,
   "metadata": {
    "collapsed": true
   },
   "outputs": [],
   "source": [
    "multiple_names.to_csv('name_synonyms.csv')"
   ]
  },
  {
   "cell_type": "markdown",
   "metadata": {},
   "source": [
    "### 1.3 Cleaning all datatables to have no Aliases"
   ]
  },
  {
   "cell_type": "code",
   "execution_count": 10,
   "metadata": {
    "collapsed": true
   },
   "outputs": [],
   "source": [
    "proceedings_df = pd.read_csv('dblp_proceedings.csv')"
   ]
  },
  {
   "cell_type": "code",
   "execution_count": 11,
   "metadata": {
    "collapsed": false
   },
   "outputs": [
    {
     "data": {
      "text/html": [
       "<div>\n",
       "<style>\n",
       "    .dataframe thead tr:only-child th {\n",
       "        text-align: right;\n",
       "    }\n",
       "\n",
       "    .dataframe thead th {\n",
       "        text-align: left;\n",
       "    }\n",
       "\n",
       "    .dataframe tbody tr th {\n",
       "        vertical-align: top;\n",
       "    }\n",
       "</style>\n",
       "<table border=\"1\" class=\"dataframe\">\n",
       "  <thead>\n",
       "    <tr style=\"text-align: right;\">\n",
       "      <th></th>\n",
       "      <th>Proceeding</th>\n",
       "      <th>Editor</th>\n",
       "      <th>Title</th>\n",
       "      <th>Year</th>\n",
       "    </tr>\n",
       "  </thead>\n",
       "  <tbody>\n",
       "    <tr>\n",
       "      <th>0</th>\n",
       "      <td>journals/thipeac/2009-2</td>\n",
       "      <td>Per Stenström</td>\n",
       "      <td>Transactions on High-Performance Embedded Arch...</td>\n",
       "      <td>2009</td>\n",
       "    </tr>\n",
       "    <tr>\n",
       "      <th>1</th>\n",
       "      <td>journals/thipeac/2011-4</td>\n",
       "      <td>Per Stenström</td>\n",
       "      <td>Transactions on High-Performance Embedded Arch...</td>\n",
       "      <td>2011</td>\n",
       "    </tr>\n",
       "    <tr>\n",
       "      <th>2</th>\n",
       "      <td>journals/thipeac/2007-1</td>\n",
       "      <td>Per Stenström</td>\n",
       "      <td>Transactions on High-Performance Embedded Arch...</td>\n",
       "      <td>2007</td>\n",
       "    </tr>\n",
       "    <tr>\n",
       "      <th>3</th>\n",
       "      <td>journals/thipeac/2007-1</td>\n",
       "      <td>Michael F. P. O'Boyle</td>\n",
       "      <td>Transactions on High-Performance Embedded Arch...</td>\n",
       "      <td>2007</td>\n",
       "    </tr>\n",
       "    <tr>\n",
       "      <th>4</th>\n",
       "      <td>journals/thipeac/2007-1</td>\n",
       "      <td>François Bodin</td>\n",
       "      <td>Transactions on High-Performance Embedded Arch...</td>\n",
       "      <td>2007</td>\n",
       "    </tr>\n",
       "    <tr>\n",
       "      <th>5</th>\n",
       "      <td>journals/thipeac/2007-1</td>\n",
       "      <td>Marcelo Cintra</td>\n",
       "      <td>Transactions on High-Performance Embedded Arch...</td>\n",
       "      <td>2007</td>\n",
       "    </tr>\n",
       "  </tbody>\n",
       "</table>\n",
       "</div>"
      ],
      "text/plain": [
       "                Proceeding                 Editor  \\\n",
       "0  journals/thipeac/2009-2          Per Stenström   \n",
       "1  journals/thipeac/2011-4          Per Stenström   \n",
       "2  journals/thipeac/2007-1          Per Stenström   \n",
       "3  journals/thipeac/2007-1  Michael F. P. O'Boyle   \n",
       "4  journals/thipeac/2007-1         François Bodin   \n",
       "5  journals/thipeac/2007-1         Marcelo Cintra   \n",
       "\n",
       "                                               Title  Year  \n",
       "0  Transactions on High-Performance Embedded Arch...  2009  \n",
       "1  Transactions on High-Performance Embedded Arch...  2011  \n",
       "2  Transactions on High-Performance Embedded Arch...  2007  \n",
       "3  Transactions on High-Performance Embedded Arch...  2007  \n",
       "4  Transactions on High-Performance Embedded Arch...  2007  \n",
       "5  Transactions on High-Performance Embedded Arch...  2007  "
      ]
     },
     "execution_count": 11,
     "metadata": {},
     "output_type": "execute_result"
    }
   ],
   "source": [
    "proceedings_df.head(6)"
   ]
  },
  {
   "cell_type": "code",
   "execution_count": 12,
   "metadata": {
    "collapsed": false
   },
   "outputs": [],
   "source": [
    "proceedings_df_a = proceedings_df.loc[proceedings_df.Editor.isin(multiple)]\n",
    "proceedings_df_n_a = proceedings_df.loc[proceedings_df.Editor.isin(set(proceedings_df.Editor)- set(multiple))]"
   ]
  },
  {
   "cell_type": "code",
   "execution_count": 13,
   "metadata": {
    "collapsed": false
   },
   "outputs": [
    {
     "name": "stderr",
     "output_type": "stream",
     "text": [
      "//anaconda/envs/py35/lib/python3.5/site-packages/pandas/core/generic.py:2999: SettingWithCopyWarning: \n",
      "A value is trying to be set on a copy of a slice from a DataFrame.\n",
      "Try using .loc[row_indexer,col_indexer] = value instead\n",
      "\n",
      "See the caveats in the documentation: http://pandas.pydata.org/pandas-docs/stable/indexing.html#indexing-view-versus-copy\n",
      "  self[name] = value\n"
     ]
    }
   ],
   "source": [
    "proceedings_df_a.Editor = proceedings_df_a.Editor.apply(lambda x : multiple_names.loc[x].new_names)"
   ]
  },
  {
   "cell_type": "code",
   "execution_count": 14,
   "metadata": {
    "collapsed": true
   },
   "outputs": [],
   "source": [
    "proceedings_df_clean = proceedings_df_a.append(proceedings_df_n_a)"
   ]
  },
  {
   "cell_type": "code",
   "execution_count": 15,
   "metadata": {
    "collapsed": false
   },
   "outputs": [],
   "source": [
    "proceedings_df_clean.reset_index(inplace=True, drop=True)"
   ]
  },
  {
   "cell_type": "code",
   "execution_count": 16,
   "metadata": {
    "collapsed": false
   },
   "outputs": [],
   "source": [
    "proceedings_df_clean.to_csv('dblp_proceedings_clean.csv')"
   ]
  },
  {
   "cell_type": "code",
   "execution_count": 17,
   "metadata": {
    "collapsed": true
   },
   "outputs": [],
   "source": [
    "def clean_names(df, filename):\n",
    "    \n",
    "    df_a = df.loc[df.Author.isin(multiple)]\n",
    "    df_n_a = df.loc[df.Author.isin(set(df.Author)-set(multiple))]\n",
    "    df_a.Author = df_a.Author.apply(lambda x : multiple_names.loc[x].new_names)\n",
    "    \n",
    "    df = df_a.append(df_n_a)\n",
    "    df.reset_index(inplace=True, drop=True)\n",
    "    \n",
    "    df.to_csv(filename)"
   ]
  },
  {
   "cell_type": "code",
   "execution_count": 35,
   "metadata": {
    "collapsed": false
   },
   "outputs": [
    {
     "name": "stdout",
     "output_type": "stream",
     "text": [
      "CPU times: user 490 ms, sys: 367 ms, total: 857 ms\n",
      "Wall time: 1.13 s\n"
     ]
    },
    {
     "name": "stderr",
     "output_type": "stream",
     "text": [
      "//anaconda/envs/py35/lib/python3.5/site-packages/pandas/core/generic.py:2999: SettingWithCopyWarning: \n",
      "A value is trying to be set on a copy of a slice from a DataFrame.\n",
      "Try using .loc[row_indexer,col_indexer] = value instead\n",
      "\n",
      "See the caveats in the documentation: http://pandas.pydata.org/pandas-docs/stable/indexing.html#indexing-view-versus-copy\n",
      "  self[name] = value\n"
     ]
    }
   ],
   "source": [
    "%time clean_names(pd.read_csv('dblp_books.csv'), 'dblp_books_clean.csv')"
   ]
  },
  {
   "cell_type": "code",
   "execution_count": 18,
   "metadata": {
    "collapsed": false
   },
   "outputs": [
    {
     "name": "stderr",
     "output_type": "stream",
     "text": [
      "//anaconda/envs/py35/lib/python3.5/site-packages/pandas/core/generic.py:2999: SettingWithCopyWarning: \n",
      "A value is trying to be set on a copy of a slice from a DataFrame.\n",
      "Try using .loc[row_indexer,col_indexer] = value instead\n",
      "\n",
      "See the caveats in the documentation: http://pandas.pydata.org/pandas-docs/stable/indexing.html#indexing-view-versus-copy\n",
      "  self[name] = value\n"
     ]
    },
    {
     "name": "stdout",
     "output_type": "stream",
     "text": [
      "CPU times: user 962 ms, sys: 51.8 ms, total: 1.01 s\n",
      "Wall time: 1.06 s\n"
     ]
    }
   ],
   "source": [
    "%time clean_names(pd.read_csv('dblp_theses.csv'), 'dblp_theses_clean.csv')"
   ]
  },
  {
   "cell_type": "code",
   "execution_count": 19,
   "metadata": {
    "collapsed": false
   },
   "outputs": [
    {
     "name": "stderr",
     "output_type": "stream",
     "text": [
      "//anaconda/envs/py35/lib/python3.5/site-packages/pandas/core/generic.py:2999: SettingWithCopyWarning: \n",
      "A value is trying to be set on a copy of a slice from a DataFrame.\n",
      "Try using .loc[row_indexer,col_indexer] = value instead\n",
      "\n",
      "See the caveats in the documentation: http://pandas.pydata.org/pandas-docs/stable/indexing.html#indexing-view-versus-copy\n",
      "  self[name] = value\n"
     ]
    },
    {
     "name": "stdout",
     "output_type": "stream",
     "text": [
      "CPU times: user 1.86 s, sys: 74.1 ms, total: 1.94 s\n",
      "Wall time: 2 s\n"
     ]
    }
   ],
   "source": [
    "%time clean_names(pd.read_csv('dblp_incollections.csv'), 'dblp_incollections_clean.csv')"
   ]
  },
  {
   "cell_type": "code",
   "execution_count": 20,
   "metadata": {
    "collapsed": false
   },
   "outputs": [
    {
     "name": "stderr",
     "output_type": "stream",
     "text": [
      "//anaconda/envs/py35/lib/python3.5/site-packages/pandas/core/generic.py:2999: SettingWithCopyWarning: \n",
      "A value is trying to be set on a copy of a slice from a DataFrame.\n",
      "Try using .loc[row_indexer,col_indexer] = value instead\n",
      "\n",
      "See the caveats in the documentation: http://pandas.pydata.org/pandas-docs/stable/indexing.html#indexing-view-versus-copy\n",
      "  self[name] = value\n"
     ]
    },
    {
     "name": "stdout",
     "output_type": "stream",
     "text": [
      "CPU times: user 2min 1s, sys: 3.22 s, total: 2min 4s\n",
      "Wall time: 2min 6s\n"
     ]
    }
   ],
   "source": [
    "%time clean_names(pd.read_csv('dblp_articles.csv'), 'dblp_articles_clean.csv')"
   ]
  },
  {
   "cell_type": "code",
   "execution_count": 21,
   "metadata": {
    "collapsed": false
   },
   "outputs": [
    {
     "name": "stderr",
     "output_type": "stream",
     "text": [
      "//anaconda/envs/py35/lib/python3.5/site-packages/pandas/core/generic.py:2999: SettingWithCopyWarning: \n",
      "A value is trying to be set on a copy of a slice from a DataFrame.\n",
      "Try using .loc[row_indexer,col_indexer] = value instead\n",
      "\n",
      "See the caveats in the documentation: http://pandas.pydata.org/pandas-docs/stable/indexing.html#indexing-view-versus-copy\n",
      "  self[name] = value\n"
     ]
    },
    {
     "name": "stdout",
     "output_type": "stream",
     "text": [
      "CPU times: user 2min 40s, sys: 4.62 s, total: 2min 45s\n",
      "Wall time: 2min 46s\n"
     ]
    }
   ],
   "source": [
    "%time clean_names(pd.read_csv('dblp_inproceedings.csv'), 'dblp_inproceedings_clean.csv')"
   ]
  },
  {
   "cell_type": "markdown",
   "metadata": {},
   "source": [
    "### 1.4 & 1.5 Merging Journal/Book information and converting to the 'cannonical' form "
   ]
  },
  {
   "cell_type": "code",
   "execution_count": 22,
   "metadata": {
    "collapsed": true
   },
   "outputs": [],
   "source": [
    "articles_df = pd.read_csv('dblp_articles_clean.csv', index_col = 0)\n",
    "\n",
    "articles_df.Title = articles_df.Title + ' ' + articles_df.Publication\n",
    "\n",
    "articles_df.drop( 'Publication', axis=1, inplace=True)\n",
    "\n",
    "articles_df.columns = ['Key', 'Author', 'Title', 'Year']\n",
    "\n",
    "articles_df.to_csv('dblp_articles_clean.csv')"
   ]
  },
  {
   "cell_type": "code",
   "execution_count": 38,
   "metadata": {
    "collapsed": false
   },
   "outputs": [],
   "source": [
    "books_df = pd.read_csv('dblp_books_clean.csv', index_col = 0)\n",
    "\n",
    "books_df.columns = ['Key', 'Author', 'Title', 'Year']\n",
    "\n",
    "books_df.to_csv('dblp_books_clean.csv')"
   ]
  },
  {
   "cell_type": "code",
   "execution_count": 24,
   "metadata": {
    "collapsed": false
   },
   "outputs": [],
   "source": [
    "incollections_df = pd.read_csv('dblp_incollections_clean.csv',index_col = 0)\n",
    "\n",
    "incollections_df.Title = incollections_df.Title + ' ' + incollections_df.Publication\n",
    "\n",
    "incollections_df.drop( 'Publication', axis=1, inplace=True)\n",
    "\n",
    "incollections_df.columns = ['Key', 'Author', 'Title', 'Year']\n",
    "\n",
    "incollections_df.to_csv('dblp_incollections_clean.csv')\n"
   ]
  },
  {
   "cell_type": "code",
   "execution_count": 25,
   "metadata": {
    "collapsed": false
   },
   "outputs": [],
   "source": [
    "inproceedings_df = pd.read_csv('dblp_inproceedings_clean.csv',index_col = 0)\n",
    "\n",
    "inproceedings_df.Title = inproceedings_df.Title + ' ' + inproceedings_df.Publication\n",
    "\n",
    "inproceedings_df.drop('Publication', axis=1, inplace=True)\n",
    "\n",
    "inproceedings_df.columns = ['Key', 'Author', 'Title', 'Year']\n",
    "\n",
    "inproceedings_df.to_csv('dblp_inproceedings_clean.csv')\n"
   ]
  },
  {
   "cell_type": "code",
   "execution_count": 26,
   "metadata": {
    "collapsed": false
   },
   "outputs": [],
   "source": [
    "thesis_df = pd.read_csv('dblp_theses_clean.csv',index_col = 0)\n",
    "\n",
    "thesis_df.columns = ['Key', 'Author', 'Title', 'Year']\n",
    "\n",
    "thesis_df.to_csv('dblp_theses_clean.csv')"
   ]
  },
  {
   "cell_type": "code",
   "execution_count": 27,
   "metadata": {
    "collapsed": false
   },
   "outputs": [],
   "source": [
    "proceedings_df = pd.read_csv('dblp_proceedings_clean.csv',index_col = 0)\n",
    "\n",
    "proceedings_df.columns = ['Key', 'Author', 'Title', 'Year']\n",
    "\n",
    "proceedings_df.to_csv('dblp_proceedings_clean.csv')"
   ]
  },
  {
   "cell_type": "markdown",
   "metadata": {},
   "source": [
    "We now finally have some useable textual dataframes, all of the same format. "
   ]
  },
  {
   "cell_type": "markdown",
   "metadata": {},
   "source": [
    "### 1.6 Tokenisation of Title , Removal of Stopwords"
   ]
  },
  {
   "cell_type": "code",
   "execution_count": 28,
   "metadata": {
    "collapsed": false
   },
   "outputs": [
    {
     "name": "stderr",
     "output_type": "stream",
     "text": [
      "//anaconda/envs/py35/lib/python3.5/site-packages/gensim-0.13.3-py3.5-macosx-10.6-x86_64.egg/gensim/utils.py:1015: UserWarning: Pattern library is not installed, lemmatization won't be available.\n",
      "  warnings.warn(\"Pattern library is not installed, lemmatization won't be available.\")\n"
     ]
    }
   ],
   "source": [
    "import gensim\n",
    "from gensim.utils import simple_preprocess\n",
    "from gensim.parsing.preprocessing import STOPWORDS\n",
    "    \n",
    "def tokenize_and_clean_title(filename):\n",
    "    \n",
    "    df = pd.read_csv(filename, index_col=0)\n",
    "    df.Title = df.Title.apply(lambda x : [y for y in simple_preprocess(x) if y not in STOPWORDS]) \n",
    "    df.to_csv(filename)"
   ]
  },
  {
   "cell_type": "code",
   "execution_count": 29,
   "metadata": {
    "collapsed": false
   },
   "outputs": [
    {
     "name": "stderr",
     "output_type": "stream",
     "text": [
      "//anaconda/envs/py35/lib/python3.5/site-packages/numpy/lib/arraysetops.py:395: FutureWarning: elementwise comparison failed; returning scalar instead, but in the future will perform elementwise comparison\n",
      "  mask |= (ar1 == a)\n"
     ]
    }
   ],
   "source": [
    "tokenize_and_clean_title('dblp_articles_clean.csv')\n",
    "tokenize_and_clean_title('dblp_books_clean.csv')\n",
    "tokenize_and_clean_title('dblp_incollections_clean.csv')\n",
    "tokenize_and_clean_title('dblp_theses_clean.csv')\n",
    "tokenize_and_clean_title('dblp_proceedings_clean.csv')\n",
    "tokenize_and_clean_title('dblp_inproceedings_clean.csv')"
   ]
  },
  {
   "cell_type": "markdown",
   "metadata": {},
   "source": [
    "#### Results -- Example Data frames"
   ]
  },
  {
   "cell_type": "code",
   "execution_count": 40,
   "metadata": {
    "collapsed": false
   },
   "outputs": [
    {
     "data": {
      "text/html": [
       "<div>\n",
       "<style>\n",
       "    .dataframe thead tr:only-child th {\n",
       "        text-align: right;\n",
       "    }\n",
       "\n",
       "    .dataframe thead th {\n",
       "        text-align: left;\n",
       "    }\n",
       "\n",
       "    .dataframe tbody tr th {\n",
       "        vertical-align: top;\n",
       "    }\n",
       "</style>\n",
       "<table border=\"1\" class=\"dataframe\">\n",
       "  <thead>\n",
       "    <tr style=\"text-align: right;\">\n",
       "      <th></th>\n",
       "      <th>Key</th>\n",
       "      <th>Author</th>\n",
       "      <th>Title</th>\n",
       "      <th>Year</th>\n",
       "    </tr>\n",
       "  </thead>\n",
       "  <tbody>\n",
       "    <tr>\n",
       "      <th>0</th>\n",
       "      <td>books/iee/Ghanbari2003</td>\n",
       "      <td>Mohammed Ghanbari</td>\n",
       "      <td>['standard', 'codecs', 'image', 'compression',...</td>\n",
       "      <td>2003</td>\n",
       "    </tr>\n",
       "    <tr>\n",
       "      <th>1</th>\n",
       "      <td>books/garland/Brosgol73</td>\n",
       "      <td>Benjamin M. Brosgol</td>\n",
       "      <td>['deterministic', 'translation', 'grammars']</td>\n",
       "      <td>1973</td>\n",
       "    </tr>\n",
       "    <tr>\n",
       "      <th>2</th>\n",
       "      <td>books/garland/Sedgewick75</td>\n",
       "      <td>Robert Sedgewick</td>\n",
       "      <td>['quicksort']</td>\n",
       "      <td>1975</td>\n",
       "    </tr>\n",
       "    <tr>\n",
       "      <th>3</th>\n",
       "      <td>books/garland/Yun73</td>\n",
       "      <td>David Y. Y. Yun</td>\n",
       "      <td>['hensel', 'lemma', 'algebraic', 'manipulation']</td>\n",
       "      <td>1973</td>\n",
       "    </tr>\n",
       "    <tr>\n",
       "      <th>4</th>\n",
       "      <td>books/bu/Rijsbergen79</td>\n",
       "      <td>C. J. van Rijsbergen</td>\n",
       "      <td>['information', 'retrieval']</td>\n",
       "      <td>1979</td>\n",
       "    </tr>\n",
       "  </tbody>\n",
       "</table>\n",
       "</div>"
      ],
      "text/plain": [
       "                         Key                Author  \\\n",
       "0     books/iee/Ghanbari2003     Mohammed Ghanbari   \n",
       "1    books/garland/Brosgol73   Benjamin M. Brosgol   \n",
       "2  books/garland/Sedgewick75      Robert Sedgewick   \n",
       "3        books/garland/Yun73       David Y. Y. Yun   \n",
       "4      books/bu/Rijsbergen79  C. J. van Rijsbergen   \n",
       "\n",
       "                                               Title  Year  \n",
       "0  ['standard', 'codecs', 'image', 'compression',...  2003  \n",
       "1       ['deterministic', 'translation', 'grammars']  1973  \n",
       "2                                      ['quicksort']  1975  \n",
       "3   ['hensel', 'lemma', 'algebraic', 'manipulation']  1973  \n",
       "4                       ['information', 'retrieval']  1979  "
      ]
     },
     "execution_count": 40,
     "metadata": {},
     "output_type": "execute_result"
    }
   ],
   "source": [
    "pd.read_csv('dblp_books_clean.csv', index_col=0).head(5)"
   ]
  },
  {
   "cell_type": "code",
   "execution_count": 41,
   "metadata": {
    "collapsed": false
   },
   "outputs": [
    {
     "name": "stderr",
     "output_type": "stream",
     "text": [
      "//anaconda/envs/py35/lib/python3.5/site-packages/numpy/lib/arraysetops.py:395: FutureWarning: elementwise comparison failed; returning scalar instead, but in the future will perform elementwise comparison\n",
      "  mask |= (ar1 == a)\n"
     ]
    },
    {
     "data": {
      "text/html": [
       "<div>\n",
       "<style>\n",
       "    .dataframe thead tr:only-child th {\n",
       "        text-align: right;\n",
       "    }\n",
       "\n",
       "    .dataframe thead th {\n",
       "        text-align: left;\n",
       "    }\n",
       "\n",
       "    .dataframe tbody tr th {\n",
       "        vertical-align: top;\n",
       "    }\n",
       "</style>\n",
       "<table border=\"1\" class=\"dataframe\">\n",
       "  <thead>\n",
       "    <tr style=\"text-align: right;\">\n",
       "      <th></th>\n",
       "      <th>Key</th>\n",
       "      <th>Author</th>\n",
       "      <th>Title</th>\n",
       "      <th>Year</th>\n",
       "    </tr>\n",
       "  </thead>\n",
       "  <tbody>\n",
       "    <tr>\n",
       "      <th>0</th>\n",
       "      <td>journals/acta/FinkelC87</td>\n",
       "      <td>Annie Choquet-Geniet</td>\n",
       "      <td>['fifo', 'nets', 'order', 'deadlock', 'acta', ...</td>\n",
       "      <td>1988</td>\n",
       "    </tr>\n",
       "    <tr>\n",
       "      <th>1</th>\n",
       "      <td>journals/acta/CalzarossaIS86</td>\n",
       "      <td>Mariacarla Calzarossa</td>\n",
       "      <td>['workload', 'model', 'representative', 'stati...</td>\n",
       "      <td>1986</td>\n",
       "    </tr>\n",
       "    <tr>\n",
       "      <th>2</th>\n",
       "      <td>journals/acta/KariK17</td>\n",
       "      <td>Lila Kari</td>\n",
       "      <td>['disjunctivity', 'properties', 'sets', 'pseud...</td>\n",
       "      <td>2017</td>\n",
       "    </tr>\n",
       "    <tr>\n",
       "      <th>3</th>\n",
       "      <td>journals/acta/BulychevDLL14</td>\n",
       "      <td>Kim G. Larsen</td>\n",
       "      <td>['efficient', 'controller', 'synthesis', 'frag...</td>\n",
       "      <td>2014</td>\n",
       "    </tr>\n",
       "    <tr>\n",
       "      <th>4</th>\n",
       "      <td>journals/acta/CremersH78a</td>\n",
       "      <td>Armin B. Cremers</td>\n",
       "      <td>['functional', 'behavior', 'data', 'spaces', '...</td>\n",
       "      <td>1978</td>\n",
       "    </tr>\n",
       "  </tbody>\n",
       "</table>\n",
       "</div>"
      ],
      "text/plain": [
       "                            Key                 Author  \\\n",
       "0       journals/acta/FinkelC87   Annie Choquet-Geniet   \n",
       "1  journals/acta/CalzarossaIS86  Mariacarla Calzarossa   \n",
       "2         journals/acta/KariK17              Lila Kari   \n",
       "3   journals/acta/BulychevDLL14          Kim G. Larsen   \n",
       "4     journals/acta/CremersH78a       Armin B. Cremers   \n",
       "\n",
       "                                               Title  Year  \n",
       "0  ['fifo', 'nets', 'order', 'deadlock', 'acta', ...  1988  \n",
       "1  ['workload', 'model', 'representative', 'stati...  1986  \n",
       "2  ['disjunctivity', 'properties', 'sets', 'pseud...  2017  \n",
       "3  ['efficient', 'controller', 'synthesis', 'frag...  2014  \n",
       "4  ['functional', 'behavior', 'data', 'spaces', '...  1978  "
      ]
     },
     "execution_count": 41,
     "metadata": {},
     "output_type": "execute_result"
    }
   ],
   "source": [
    "pd.read_csv('dblp_articles_clean.csv', index_col=0).head(5)"
   ]
  },
  {
   "cell_type": "code",
   "execution_count": null,
   "metadata": {
    "collapsed": true
   },
   "outputs": [],
   "source": []
  }
 ],
 "metadata": {
  "anaconda-cloud": {},
  "kernelspec": {
   "display_name": "Python [conda env:py35]",
   "language": "python",
   "name": "conda-env-py35-py"
  },
  "language_info": {
   "codemirror_mode": {
    "name": "ipython",
    "version": 3
   },
   "file_extension": ".py",
   "mimetype": "text/x-python",
   "name": "python",
   "nbconvert_exporter": "python",
   "pygments_lexer": "ipython3",
   "version": "3.5.2"
  }
 },
 "nbformat": 4,
 "nbformat_minor": 1
}
