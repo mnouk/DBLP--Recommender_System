{
 "cells": [
  {
   "cell_type": "code",
   "execution_count": 1,
   "metadata": {
    "collapsed": false,
    "scrolled": true
   },
   "outputs": [],
   "source": [
    "from plotly import __version__\n",
    "from plotly.offline import download_plotlyjs, init_notebook_mode, plot, iplot\n",
    "import plotly.plotly as py\n",
    "from plotly.graph_objs import *\n",
    "import plotly.graph_objs as go"
   ]
  },
  {
   "cell_type": "code",
   "execution_count": 2,
   "metadata": {
    "collapsed": false
   },
   "outputs": [
    {
     "data": {
      "text/html": [
       "<script>requirejs.config({paths: { 'plotly': ['https://cdn.plot.ly/plotly-latest.min']},});if(!window.Plotly) {{require(['plotly'],function(plotly) {window.Plotly=plotly;});}}</script>"
      ],
      "text/vnd.plotly.v1+html": [
       "<script>requirejs.config({paths: { 'plotly': ['https://cdn.plot.ly/plotly-latest.min']},});if(!window.Plotly) {{require(['plotly'],function(plotly) {window.Plotly=plotly;});}}</script>"
      ]
     },
     "metadata": {},
     "output_type": "display_data"
    }
   ],
   "source": [
    "init_notebook_mode(connected=True)"
   ]
  },
  {
   "cell_type": "code",
   "execution_count": 3,
   "metadata": {
    "collapsed": true
   },
   "outputs": [],
   "source": [
    "import pandas as pd"
   ]
  },
  {
   "cell_type": "code",
   "execution_count": 4,
   "metadata": {
    "collapsed": true
   },
   "outputs": [],
   "source": [
    "# Serie of score of with author\n",
    "wA= pd.Series([0.7727166070276295,0.9089845748958257,  0.7727166070276295, 0.790610599078341, 0.7727166070276295, 1])"
   ]
  },
  {
   "cell_type": "code",
   "execution_count": 5,
   "metadata": {
    "collapsed": true
   },
   "outputs": [],
   "source": [
    "trace_without_author = Bar(x=pd.Series(['Article', 'Book', 'Incollection', 'Inproceding', 'Proceeding', 'Thesis']),\n",
    "                  y=1 - wA,\n",
    "                  name='without author',\n",
    "                  marker=dict(color='#D94E16'))"
   ]
  },
  {
   "cell_type": "code",
   "execution_count": 6,
   "metadata": {
    "collapsed": false
   },
   "outputs": [],
   "source": [
    "trace_author = Bar(x=pd.Series(['Article', 'Book', 'Incollection', 'Inproceding', 'Proceeding', 'Thesis']),\n",
    "                  y=wA,\n",
    "                  name='with author',\n",
    "                  marker=dict(color='#00A38A'))"
   ]
  },
  {
   "cell_type": "code",
   "execution_count": 7,
   "metadata": {
    "collapsed": false
   },
   "outputs": [],
   "source": [
    "data = [ trace_author, trace_without_author]"
   ]
  },
  {
   "cell_type": "code",
   "execution_count": 8,
   "metadata": {
    "collapsed": false
   },
   "outputs": [],
   "source": [
    "layout = go.Layout(\n",
    "    barmode='stack'\n",
    ")"
   ]
  },
  {
   "cell_type": "code",
   "execution_count": 9,
   "metadata": {
    "collapsed": false
   },
   "outputs": [],
   "source": [
    "fig = Figure(data=data, layout = layout)"
   ]
  },
  {
   "cell_type": "code",
   "execution_count": 10,
   "metadata": {
    "collapsed": false
   },
   "outputs": [
    {
     "data": {
      "application/vnd.plotly.v1+json": {
       "data": [
        {
         "marker": {
          "color": "#00A38A"
         },
         "name": "with author",
         "type": "bar",
         "x": [
          "Article",
          "Book",
          "Incollection",
          "Inproceding",
          "Proceeding",
          "Thesis"
         ],
         "y": [
          0.7727166070276295,
          0.9089845748958257,
          0.7727166070276295,
          0.790610599078341,
          0.7727166070276295,
          1
         ]
        },
        {
         "marker": {
          "color": "#D94E16"
         },
         "name": "without author",
         "type": "bar",
         "x": [
          "Article",
          "Book",
          "Incollection",
          "Inproceding",
          "Proceeding",
          "Thesis"
         ],
         "y": [
          0.22728339297237055,
          0.09101542510417426,
          0.22728339297237055,
          0.20938940092165903,
          0.22728339297237055,
          0
         ]
        }
       ],
       "layout": {
        "barmode": "stack"
       }
      },
      "text/html": [
       "<div id=\"3809f8a4-48cd-4df7-b339-804ee2efa9ae\" style=\"height: 525px; width: 100%;\" class=\"plotly-graph-div\"></div><script type=\"text/javascript\">require([\"plotly\"], function(Plotly) { window.PLOTLYENV=window.PLOTLYENV || {};window.PLOTLYENV.BASE_URL=\"https://plot.ly\";Plotly.newPlot(\"3809f8a4-48cd-4df7-b339-804ee2efa9ae\", [{\"y\": [0.7727166070276295, 0.9089845748958257, 0.7727166070276295, 0.790610599078341, 0.7727166070276295, 1.0], \"x\": [\"Article\", \"Book\", \"Incollection\", \"Inproceding\", \"Proceeding\", \"Thesis\"], \"type\": \"bar\", \"marker\": {\"color\": \"#00A38A\"}, \"name\": \"with author\"}, {\"y\": [0.22728339297237055, 0.09101542510417426, 0.22728339297237055, 0.20938940092165903, 0.22728339297237055, 0.0], \"x\": [\"Article\", \"Book\", \"Incollection\", \"Inproceding\", \"Proceeding\", \"Thesis\"], \"type\": \"bar\", \"marker\": {\"color\": \"#D94E16\"}, \"name\": \"without author\"}], {\"barmode\": \"stack\"}, {\"showLink\": true, \"linkText\": \"Export to plot.ly\"})});</script>"
      ],
      "text/vnd.plotly.v1+html": [
       "<div id=\"3809f8a4-48cd-4df7-b339-804ee2efa9ae\" style=\"height: 525px; width: 100%;\" class=\"plotly-graph-div\"></div><script type=\"text/javascript\">require([\"plotly\"], function(Plotly) { window.PLOTLYENV=window.PLOTLYENV || {};window.PLOTLYENV.BASE_URL=\"https://plot.ly\";Plotly.newPlot(\"3809f8a4-48cd-4df7-b339-804ee2efa9ae\", [{\"y\": [0.7727166070276295, 0.9089845748958257, 0.7727166070276295, 0.790610599078341, 0.7727166070276295, 1.0], \"x\": [\"Article\", \"Book\", \"Incollection\", \"Inproceding\", \"Proceeding\", \"Thesis\"], \"type\": \"bar\", \"marker\": {\"color\": \"#00A38A\"}, \"name\": \"with author\"}, {\"y\": [0.22728339297237055, 0.09101542510417426, 0.22728339297237055, 0.20938940092165903, 0.22728339297237055, 0.0], \"x\": [\"Article\", \"Book\", \"Incollection\", \"Inproceding\", \"Proceeding\", \"Thesis\"], \"type\": \"bar\", \"marker\": {\"color\": \"#D94E16\"}, \"name\": \"without author\"}], {\"barmode\": \"stack\"}, {\"showLink\": true, \"linkText\": \"Export to plot.ly\"})});</script>"
      ]
     },
     "metadata": {},
     "output_type": "display_data"
    }
   ],
   "source": [
    "iplot(fig)"
   ]
  },
  {
   "cell_type": "code",
   "execution_count": null,
   "metadata": {
    "collapsed": true
   },
   "outputs": [],
   "source": []
  },
  {
   "cell_type": "code",
   "execution_count": null,
   "metadata": {
    "collapsed": true
   },
   "outputs": [],
   "source": []
  }
 ],
 "metadata": {
  "anaconda-cloud": {},
  "kernelspec": {
   "display_name": "Python [conda env:py35]",
   "language": "python",
   "name": "conda-env-py35-py"
  },
  "language_info": {
   "codemirror_mode": {
    "name": "ipython",
    "version": 3
   },
   "file_extension": ".py",
   "mimetype": "text/x-python",
   "name": "python",
   "nbconvert_exporter": "python",
   "pygments_lexer": "ipython3",
   "version": "3.5.2"
  }
 },
 "nbformat": 4,
 "nbformat_minor": 1
}
